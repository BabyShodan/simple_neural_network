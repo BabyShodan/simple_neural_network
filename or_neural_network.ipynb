{
 "cells": [
  {
   "cell_type": "markdown",
   "id": "cc23ce5d-f250-42ca-8441-32950689f26e",
   "metadata": {
    "pycharm": {
     "name": "#%% md\n"
    }
   },
   "source": [
    "# My first neural network which analyse 'or' function"
   ]
  },
  {
   "cell_type": "markdown",
   "source": [
    "###### import modules"
   ],
   "metadata": {
    "collapsed": false,
    "pycharm": {
     "name": "#%% md\n"
    }
   }
  },
  {
   "cell_type": "code",
   "execution_count": 80,
   "outputs": [
    {
     "name": "stdout",
     "output_type": "stream",
     "text": [
      "Versions: ['1.21.5']\n"
     ]
    }
   ],
   "source": [
    "# Module versions:\n",
    "import numpy as np\n",
    "print('Versions:', [v.__version__ for v in [np]])"
   ],
   "metadata": {
    "collapsed": false,
    "pycharm": {
     "name": "#%%\n"
    }
   }
  },
  {
   "cell_type": "markdown",
   "source": [
    "## Neural network structure\n",
    "##### easy network work"
   ],
   "metadata": {
    "collapsed": false,
    "pycharm": {
     "name": "#%% md\n"
    }
   }
  },
  {
   "cell_type": "code",
   "execution_count": 81,
   "outputs": [],
   "source": [
    "class NeuralNetwork:\n",
    "\n",
    "    # Initialize network:\n",
    "    def __init__(self, inputnodes: float, hiddennodes: float,\n",
    "                 outputnodes: float, learningrate: float):\n",
    "        # Nodes for network:\n",
    "        self.inodes = inputnodes\n",
    "        self.hnodes = hiddennodes\n",
    "        self.onodes = outputnodes\n",
    "        # Learning speed:\n",
    "        self.lr = learningrate\n",
    "        # Create random weights from normal distribution:\n",
    "        #self.weights_in_hn2 = np.random.normal(0.0, (self.hnodes ** -0.5),\n",
    "                                              #(self.hnodes, self.inodes))\n",
    "\n",
    "        #self.weights_hn_ou2 = np.random.normal(0.0, (self.onodes ** -0.5),\n",
    "                                              #(self.onodes, self.hnodes))\n",
    "\n",
    "        self.weights_in_hn = np.random.rand(self.hnodes, self.inodes) -0.5\n",
    "        self.weights_hn_ou = np.random.rand(self.onodes, self.hnodes) -0.5\n",
    "\n",
    "\n",
    "    @staticmethod\n",
    "    def activation_func(num: float):\n",
    "        return 1 / (1 + np.exp(-num))\n",
    "\n",
    "    # Train neural network\n",
    "    def train(self, inputs_list, targets_list):\n",
    "        inputs = np.array(inputs_list, ndmin=2).T\n",
    "        targets = np.array(targets_list, ndmin=2).T\n",
    "\n",
    "        hidden_inputs = np.dot(self.weights_in_hn, inputs)\n",
    "        hidden_outputs = self.activation_func(hidden_inputs)\n",
    "\n",
    "        final_inputs = np.dot(self.weights_hn_ou, hidden_outputs)\n",
    "        final_outputs = self.activation_func(final_inputs)\n",
    "\n",
    "        output_errors = targets - final_outputs\n",
    "        hidden_errors = np.dot(self.weights_hn_ou.T, output_errors)\n",
    "\n",
    "        # Reverse error distribution formula for network weights:\n",
    "        self.weights_hn_ou += self.lr * np.dot(\n",
    "            (output_errors * final_outputs * (1.0 - final_outputs)),\n",
    "            np.transpose(hidden_outputs))\n",
    "        self.weights_in_hn += self.lr * np.dot(\n",
    "            (hidden_errors * hidden_outputs * (1.0 - hidden_outputs)),\n",
    "            np.transpose(inputs))\n",
    "\n",
    "    # Query neural network\n",
    "    def query(self, inputs_list: list):\n",
    "        # Multiply matrix's, sum and activate:\n",
    "        inputs = np.array(inputs_list, ndmin=2).T\n",
    "        \n",
    "        hidden_inputs = np.dot(self.weights_in_hn, inputs)\n",
    "        hidden_outputs = self.activation_func(hidden_inputs)\n",
    "\n",
    "        final_inputs = np.dot(self.weights_hn_ou, hidden_outputs)\n",
    "        final_outputs = self.activation_func(final_inputs)\n",
    "\n",
    "        return final_outputs"
   ],
   "metadata": {
    "collapsed": false,
    "pycharm": {
     "name": "#%%\n"
    }
   }
  },
  {
   "cell_type": "markdown",
   "source": [
    "### Used formulas:\n",
    "For activation function: $$ f(x) =  \\frac{\\mathrm{1} }{\\mathrm{1} + e^-x }  $$\n",
    "For reverse error distribution with gradient: $$-(e_o) \\times  \\sigma( \\Sigma_i w_{io} o_i) \\times (1 - \\sigma(\\Sigma_i w_{io} o_i) \\times o_i$$"
   ],
   "metadata": {
    "collapsed": false,
    "pycharm": {
     "name": "#%% md\n"
    }
   }
  },
  {
   "cell_type": "markdown",
   "source": [
    "## Train network and show results:\n",
    "##### xor function possibilities:\n",
    "* 1 or 1 = 0,\n",
    "* 1 or 0 = 1,\n",
    "* 0 or 1 = 1,\n",
    "* 0 or 0 = 0."
   ],
   "metadata": {
    "collapsed": false,
    "pycharm": {
     "name": "#%% md\n"
    }
   }
  },
  {
   "cell_type": "code",
   "execution_count": 128,
   "outputs": [
    {
     "name": "stdout",
     "output_type": "stream",
     "text": [
      "Data 1, 1:\n",
      "[[0.96240526]]\n",
      "Data 1, 0:\n",
      "[[0.95998185]]\n",
      "Data 0, 1:\n",
      "[[0.95999112]]\n",
      "Data 0, 0:\n",
      "[[0.08579348]]\n"
     ]
    }
   ],
   "source": [
    "# x,x - values y - answer [x,x,y]\n",
    "dataset = [[1,1,1],[1,0,1],[0,1,1],[0,0,0]]\n",
    "test = NeuralNetwork(inputnodes=2, hiddennodes=2, outputnodes=1, learningrate = 0.6)\n",
    "for _ in range(1000):\n",
    "    for x1, x2, y in dataset:\n",
    "        #print(x1,x2,y)\n",
    "        test.train((x1,x2),y)\n",
    "\n",
    "for data in dataset:\n",
    "    print(f'Data {data[0]}, {data[1]}:')\n",
    "    print(test.query([data[0], data[1]]))"
   ],
   "metadata": {
    "collapsed": false,
    "pycharm": {
     "name": "#%%\n"
    }
   }
  }
 ],
 "metadata": {
  "kernelspec": {
   "display_name": "Python 3 (ipykernel)",
   "language": "python",
   "name": "python3"
  },
  "language_info": {
   "codemirror_mode": {
    "name": "ipython",
    "version": 3
   },
   "file_extension": ".py",
   "mimetype": "text/x-python",
   "name": "python",
   "nbconvert_exporter": "python",
   "pygments_lexer": "ipython3",
   "version": "3.9.12"
  }
 },
 "nbformat": 4,
 "nbformat_minor": 5
}